{
 "cells": [
  {
   "cell_type": "code",
   "execution_count": 4,
   "id": "59000f89",
   "metadata": {
    "ExecuteTime": {
     "end_time": "2022-10-07T09:14:44.176019Z",
     "start_time": "2022-10-07T09:14:44.173641Z"
    }
   },
   "outputs": [],
   "source": [
    "import numpy as np\n",
    "import pandas as pd\n",
    "import os\n",
    "import json"
   ]
  },
  {
   "cell_type": "code",
   "execution_count": 5,
   "id": "1fd4d718",
   "metadata": {
    "ExecuteTime": {
     "end_time": "2022-10-07T09:14:44.844379Z",
     "start_time": "2022-10-07T09:14:44.840582Z"
    }
   },
   "outputs": [],
   "source": [
    "members = ['ali', 'anika', 'rayhan', 'sezan', 'mim', 'tamim', 'rafa2', 'shakhwat', 'rafa', 'masud', 'ananya', 'tanoy', 'tanwi', 'mohammad', 'shovon']\n",
    "groups = {'day1': ['ali', 'anika', 'rayhan', 'sezan', 'mim'], 'only_day2': ['tamim', 'rafa2', 'shakhwat', 'rafa'], 'day2_day3': ['tanoy', 'tanwi', 'masud', 'ananya', 'ali', 'anika', 'sezan', 'mim', 'rayhan'], 'day2_ramen': ['shovon', 'mohammad', 'ali', 'sezan', 'rayhan']}"
   ]
  },
  {
   "cell_type": "code",
   "execution_count": 6,
   "id": "c90106ed",
   "metadata": {
    "ExecuteTime": {
     "end_time": "2022-10-07T09:14:45.150079Z",
     "start_time": "2022-10-07T09:14:45.146769Z"
    }
   },
   "outputs": [],
   "source": [
    "with open('members_.json','w') as f:\n",
    "    json.dump(members,f)\n",
    "with open('groups_.json','w') as f:\n",
    "    json.dump(groups,f)"
   ]
  },
  {
   "cell_type": "code",
   "execution_count": 7,
   "id": "03c63534",
   "metadata": {
    "ExecuteTime": {
     "end_time": "2022-10-07T09:15:47.923604Z",
     "start_time": "2022-10-07T09:15:47.914373Z"
    }
   },
   "outputs": [
    {
     "data": {
      "text/plain": [
       "['ali 3000 day2_ramen #####>\\n',\n",
       " 'rayhan 10000 ananya,anika,rayhan,sezan #####>\\n',\n",
       " 'tamim 2000 only_day2,ali,anika,mim,sezan #####>\\n',\n",
       " 'rafa2 2008 only_day2,ali,mim,sezan,day2_day3 #####>taxi\\n',\n",
       " 'sezan 200 day1,tamim,mim #####>taxi\\n',\n",
       " 'shakhwat 6000 day1,tamim,mim,day2_day3 #####>taxi\\n',\n",
       " 'tanwi 500 tamim,mim,rayhan,tanwi #####>taxi\\n',\n",
       " 'tanoy 3000 tamim,mim,rayhan,tanwi,only_day2 #####>taxi\\n',\n",
       " 'ali 3000 mim,rayhan,only_day2,tanoy,anika #####>taxi\\n',\n",
       " 'mohammad 3006 mim,rayhan,only_day2,tanoy,anika,mohammad,shovon #####>no comment\\n',\n",
       " 'tanoy 2996 mim,rayhan,only_day2,tanoy,anika,mohammad,shovon,ananya,ali #####>no comment\\n',\n",
       " 'rafa 5000 rayhan,tanoy,ananya,masud #####>no comment\\n',\n",
       " 'anika 5000 rayhan,tanoy,ananya,masud #####>no comment\\n',\n",
       " 'masud 3000 rayhan,tanoy,ananya,masud,day2_day3 #####>no comment\\n',\n",
       " 'rayhan 30000 day1,only_day2,day2_day3,day2_ramen #####>no comment\\n']"
      ]
     },
     "execution_count": 7,
     "metadata": {},
     "output_type": "execute_result"
    }
   ],
   "source": [
    "with open('expenses.txt','r') as f:\n",
    "    data = f.readlines()\n",
    "data"
   ]
  },
  {
   "cell_type": "code",
   "execution_count": 53,
   "id": "3f87c3df",
   "metadata": {
    "ExecuteTime": {
     "end_time": "2022-10-07T09:48:45.858839Z",
     "start_time": "2022-10-07T09:48:45.848628Z"
    }
   },
   "outputs": [
    {
     "data": {
      "text/html": [
       "<div>\n",
       "<style scoped>\n",
       "    .dataframe tbody tr th:only-of-type {\n",
       "        vertical-align: middle;\n",
       "    }\n",
       "\n",
       "    .dataframe tbody tr th {\n",
       "        vertical-align: top;\n",
       "    }\n",
       "\n",
       "    .dataframe thead th {\n",
       "        text-align: right;\n",
       "    }\n",
       "</style>\n",
       "<table border=\"1\" class=\"dataframe\">\n",
       "  <thead>\n",
       "    <tr style=\"text-align: right;\">\n",
       "      <th></th>\n",
       "      <th>who_paid</th>\n",
       "      <th>amount</th>\n",
       "      <th>ali</th>\n",
       "      <th>anika</th>\n",
       "      <th>rayhan</th>\n",
       "      <th>sezan</th>\n",
       "      <th>mim</th>\n",
       "      <th>tamim</th>\n",
       "      <th>rafa2</th>\n",
       "      <th>shakhwat</th>\n",
       "      <th>rafa</th>\n",
       "      <th>masud</th>\n",
       "      <th>ananya</th>\n",
       "      <th>tanoy</th>\n",
       "      <th>tanwi</th>\n",
       "      <th>mohammad</th>\n",
       "      <th>shovon</th>\n",
       "    </tr>\n",
       "  </thead>\n",
       "  <tbody>\n",
       "  </tbody>\n",
       "</table>\n",
       "</div>"
      ],
      "text/plain": [
       "Empty DataFrame\n",
       "Columns: [who_paid, amount, ali, anika, rayhan, sezan, mim, tamim, rafa2, shakhwat, rafa, masud, ananya, tanoy, tanwi, mohammad, shovon]\n",
       "Index: []"
      ]
     },
     "execution_count": 53,
     "metadata": {},
     "output_type": "execute_result"
    }
   ],
   "source": [
    "df = pd.DataFrame(columns=['who_paid','amount']+members)\n",
    "df"
   ]
  },
  {
   "cell_type": "code",
   "execution_count": 54,
   "id": "e6ed9b6e",
   "metadata": {
    "ExecuteTime": {
     "end_time": "2022-10-07T09:48:46.161463Z",
     "start_time": "2022-10-07T09:48:46.156694Z"
    }
   },
   "outputs": [],
   "source": [
    "line = data[0]\n",
    "frm,amnt,t2 = single_line_handle(line)\n",
    "\n",
    "df.loc[0,'who_paid'] = frm\n",
    "df.loc[0,'amount'] = amnt\n",
    "df.loc[0,members] = payee_handler(payee=t2,members=members)"
   ]
  },
  {
   "cell_type": "code",
   "execution_count": 55,
   "id": "029dc2f0",
   "metadata": {
    "ExecuteTime": {
     "end_time": "2022-10-07T09:48:46.587130Z",
     "start_time": "2022-10-07T09:48:46.575560Z"
    }
   },
   "outputs": [
    {
     "data": {
      "text/html": [
       "<div>\n",
       "<style scoped>\n",
       "    .dataframe tbody tr th:only-of-type {\n",
       "        vertical-align: middle;\n",
       "    }\n",
       "\n",
       "    .dataframe tbody tr th {\n",
       "        vertical-align: top;\n",
       "    }\n",
       "\n",
       "    .dataframe thead th {\n",
       "        text-align: right;\n",
       "    }\n",
       "</style>\n",
       "<table border=\"1\" class=\"dataframe\">\n",
       "  <thead>\n",
       "    <tr style=\"text-align: right;\">\n",
       "      <th></th>\n",
       "      <th>who_paid</th>\n",
       "      <th>amount</th>\n",
       "      <th>ali</th>\n",
       "      <th>anika</th>\n",
       "      <th>rayhan</th>\n",
       "      <th>sezan</th>\n",
       "      <th>mim</th>\n",
       "      <th>tamim</th>\n",
       "      <th>rafa2</th>\n",
       "      <th>shakhwat</th>\n",
       "      <th>rafa</th>\n",
       "      <th>masud</th>\n",
       "      <th>ananya</th>\n",
       "      <th>tanoy</th>\n",
       "      <th>tanwi</th>\n",
       "      <th>mohammad</th>\n",
       "      <th>shovon</th>\n",
       "    </tr>\n",
       "  </thead>\n",
       "  <tbody>\n",
       "    <tr>\n",
       "      <th>0</th>\n",
       "      <td>ali</td>\n",
       "      <td>3000</td>\n",
       "      <td>True</td>\n",
       "      <td>False</td>\n",
       "      <td>True</td>\n",
       "      <td>True</td>\n",
       "      <td>False</td>\n",
       "      <td>False</td>\n",
       "      <td>False</td>\n",
       "      <td>False</td>\n",
       "      <td>False</td>\n",
       "      <td>False</td>\n",
       "      <td>False</td>\n",
       "      <td>False</td>\n",
       "      <td>False</td>\n",
       "      <td>True</td>\n",
       "      <td>True</td>\n",
       "    </tr>\n",
       "  </tbody>\n",
       "</table>\n",
       "</div>"
      ],
      "text/plain": [
       "  who_paid amount   ali  anika rayhan sezan    mim  tamim  rafa2 shakhwat  \\\n",
       "0      ali   3000  True  False   True  True  False  False  False    False   \n",
       "\n",
       "    rafa  masud ananya  tanoy  tanwi mohammad shovon  \n",
       "0  False  False  False  False  False     True   True  "
      ]
     },
     "execution_count": 55,
     "metadata": {},
     "output_type": "execute_result"
    }
   ],
   "source": [
    "df"
   ]
  },
  {
   "cell_type": "code",
   "execution_count": 56,
   "id": "9ebc3c24",
   "metadata": {
    "ExecuteTime": {
     "end_time": "2022-10-07T09:50:34.478230Z",
     "start_time": "2022-10-07T09:50:34.461748Z"
    }
   },
   "outputs": [],
   "source": [
    "for i in range(len(data)):\n",
    "    line = data[i]\n",
    "    frm,amnt,t2 = single_line_handle(line)\n",
    "    df.loc[i,'who_paid'] = frm\n",
    "    df.loc[i,'amount'] = amnt\n",
    "    df.loc[i,members] = payee_handler(payee=t2,members=members)"
   ]
  },
  {
   "cell_type": "code",
   "execution_count": 57,
   "id": "aa2e8120",
   "metadata": {
    "ExecuteTime": {
     "end_time": "2022-10-07T09:50:36.261377Z",
     "start_time": "2022-10-07T09:50:36.245881Z"
    }
   },
   "outputs": [
    {
     "data": {
      "text/html": [
       "<div>\n",
       "<style scoped>\n",
       "    .dataframe tbody tr th:only-of-type {\n",
       "        vertical-align: middle;\n",
       "    }\n",
       "\n",
       "    .dataframe tbody tr th {\n",
       "        vertical-align: top;\n",
       "    }\n",
       "\n",
       "    .dataframe thead th {\n",
       "        text-align: right;\n",
       "    }\n",
       "</style>\n",
       "<table border=\"1\" class=\"dataframe\">\n",
       "  <thead>\n",
       "    <tr style=\"text-align: right;\">\n",
       "      <th></th>\n",
       "      <th>who_paid</th>\n",
       "      <th>amount</th>\n",
       "      <th>ali</th>\n",
       "      <th>anika</th>\n",
       "      <th>rayhan</th>\n",
       "      <th>sezan</th>\n",
       "      <th>mim</th>\n",
       "      <th>tamim</th>\n",
       "      <th>rafa2</th>\n",
       "      <th>shakhwat</th>\n",
       "      <th>rafa</th>\n",
       "      <th>masud</th>\n",
       "      <th>ananya</th>\n",
       "      <th>tanoy</th>\n",
       "      <th>tanwi</th>\n",
       "      <th>mohammad</th>\n",
       "      <th>shovon</th>\n",
       "    </tr>\n",
       "  </thead>\n",
       "  <tbody>\n",
       "    <tr>\n",
       "      <th>0</th>\n",
       "      <td>ali</td>\n",
       "      <td>3000</td>\n",
       "      <td>True</td>\n",
       "      <td>False</td>\n",
       "      <td>True</td>\n",
       "      <td>True</td>\n",
       "      <td>False</td>\n",
       "      <td>False</td>\n",
       "      <td>False</td>\n",
       "      <td>False</td>\n",
       "      <td>False</td>\n",
       "      <td>False</td>\n",
       "      <td>False</td>\n",
       "      <td>False</td>\n",
       "      <td>False</td>\n",
       "      <td>True</td>\n",
       "      <td>True</td>\n",
       "    </tr>\n",
       "    <tr>\n",
       "      <th>1</th>\n",
       "      <td>rayhan</td>\n",
       "      <td>10000</td>\n",
       "      <td>False</td>\n",
       "      <td>True</td>\n",
       "      <td>True</td>\n",
       "      <td>True</td>\n",
       "      <td>False</td>\n",
       "      <td>False</td>\n",
       "      <td>False</td>\n",
       "      <td>False</td>\n",
       "      <td>False</td>\n",
       "      <td>False</td>\n",
       "      <td>True</td>\n",
       "      <td>False</td>\n",
       "      <td>False</td>\n",
       "      <td>False</td>\n",
       "      <td>False</td>\n",
       "    </tr>\n",
       "    <tr>\n",
       "      <th>2</th>\n",
       "      <td>tamim</td>\n",
       "      <td>2000</td>\n",
       "      <td>True</td>\n",
       "      <td>True</td>\n",
       "      <td>False</td>\n",
       "      <td>True</td>\n",
       "      <td>True</td>\n",
       "      <td>True</td>\n",
       "      <td>True</td>\n",
       "      <td>True</td>\n",
       "      <td>True</td>\n",
       "      <td>False</td>\n",
       "      <td>False</td>\n",
       "      <td>False</td>\n",
       "      <td>False</td>\n",
       "      <td>False</td>\n",
       "      <td>False</td>\n",
       "    </tr>\n",
       "    <tr>\n",
       "      <th>3</th>\n",
       "      <td>rafa2</td>\n",
       "      <td>2008</td>\n",
       "      <td>True</td>\n",
       "      <td>True</td>\n",
       "      <td>True</td>\n",
       "      <td>True</td>\n",
       "      <td>True</td>\n",
       "      <td>True</td>\n",
       "      <td>True</td>\n",
       "      <td>True</td>\n",
       "      <td>True</td>\n",
       "      <td>True</td>\n",
       "      <td>True</td>\n",
       "      <td>True</td>\n",
       "      <td>True</td>\n",
       "      <td>False</td>\n",
       "      <td>False</td>\n",
       "    </tr>\n",
       "    <tr>\n",
       "      <th>4</th>\n",
       "      <td>sezan</td>\n",
       "      <td>200</td>\n",
       "      <td>True</td>\n",
       "      <td>True</td>\n",
       "      <td>True</td>\n",
       "      <td>True</td>\n",
       "      <td>True</td>\n",
       "      <td>True</td>\n",
       "      <td>False</td>\n",
       "      <td>False</td>\n",
       "      <td>False</td>\n",
       "      <td>False</td>\n",
       "      <td>False</td>\n",
       "      <td>False</td>\n",
       "      <td>False</td>\n",
       "      <td>False</td>\n",
       "      <td>False</td>\n",
       "    </tr>\n",
       "    <tr>\n",
       "      <th>5</th>\n",
       "      <td>shakhwat</td>\n",
       "      <td>6000</td>\n",
       "      <td>True</td>\n",
       "      <td>True</td>\n",
       "      <td>True</td>\n",
       "      <td>True</td>\n",
       "      <td>True</td>\n",
       "      <td>True</td>\n",
       "      <td>False</td>\n",
       "      <td>False</td>\n",
       "      <td>False</td>\n",
       "      <td>True</td>\n",
       "      <td>True</td>\n",
       "      <td>True</td>\n",
       "      <td>True</td>\n",
       "      <td>False</td>\n",
       "      <td>False</td>\n",
       "    </tr>\n",
       "    <tr>\n",
       "      <th>6</th>\n",
       "      <td>tanwi</td>\n",
       "      <td>500</td>\n",
       "      <td>False</td>\n",
       "      <td>False</td>\n",
       "      <td>True</td>\n",
       "      <td>False</td>\n",
       "      <td>True</td>\n",
       "      <td>True</td>\n",
       "      <td>False</td>\n",
       "      <td>False</td>\n",
       "      <td>False</td>\n",
       "      <td>False</td>\n",
       "      <td>False</td>\n",
       "      <td>False</td>\n",
       "      <td>True</td>\n",
       "      <td>False</td>\n",
       "      <td>False</td>\n",
       "    </tr>\n",
       "    <tr>\n",
       "      <th>7</th>\n",
       "      <td>tanoy</td>\n",
       "      <td>3000</td>\n",
       "      <td>False</td>\n",
       "      <td>False</td>\n",
       "      <td>True</td>\n",
       "      <td>False</td>\n",
       "      <td>True</td>\n",
       "      <td>True</td>\n",
       "      <td>True</td>\n",
       "      <td>True</td>\n",
       "      <td>True</td>\n",
       "      <td>False</td>\n",
       "      <td>False</td>\n",
       "      <td>False</td>\n",
       "      <td>True</td>\n",
       "      <td>False</td>\n",
       "      <td>False</td>\n",
       "    </tr>\n",
       "    <tr>\n",
       "      <th>8</th>\n",
       "      <td>ali</td>\n",
       "      <td>3000</td>\n",
       "      <td>False</td>\n",
       "      <td>True</td>\n",
       "      <td>True</td>\n",
       "      <td>False</td>\n",
       "      <td>True</td>\n",
       "      <td>True</td>\n",
       "      <td>True</td>\n",
       "      <td>True</td>\n",
       "      <td>True</td>\n",
       "      <td>False</td>\n",
       "      <td>False</td>\n",
       "      <td>True</td>\n",
       "      <td>False</td>\n",
       "      <td>False</td>\n",
       "      <td>False</td>\n",
       "    </tr>\n",
       "    <tr>\n",
       "      <th>9</th>\n",
       "      <td>mohammad</td>\n",
       "      <td>3006</td>\n",
       "      <td>False</td>\n",
       "      <td>True</td>\n",
       "      <td>True</td>\n",
       "      <td>False</td>\n",
       "      <td>True</td>\n",
       "      <td>True</td>\n",
       "      <td>True</td>\n",
       "      <td>True</td>\n",
       "      <td>True</td>\n",
       "      <td>False</td>\n",
       "      <td>False</td>\n",
       "      <td>True</td>\n",
       "      <td>False</td>\n",
       "      <td>True</td>\n",
       "      <td>True</td>\n",
       "    </tr>\n",
       "    <tr>\n",
       "      <th>10</th>\n",
       "      <td>tanoy</td>\n",
       "      <td>2996</td>\n",
       "      <td>True</td>\n",
       "      <td>True</td>\n",
       "      <td>True</td>\n",
       "      <td>False</td>\n",
       "      <td>True</td>\n",
       "      <td>True</td>\n",
       "      <td>True</td>\n",
       "      <td>True</td>\n",
       "      <td>True</td>\n",
       "      <td>False</td>\n",
       "      <td>True</td>\n",
       "      <td>True</td>\n",
       "      <td>False</td>\n",
       "      <td>True</td>\n",
       "      <td>True</td>\n",
       "    </tr>\n",
       "    <tr>\n",
       "      <th>11</th>\n",
       "      <td>rafa</td>\n",
       "      <td>5000</td>\n",
       "      <td>False</td>\n",
       "      <td>False</td>\n",
       "      <td>True</td>\n",
       "      <td>False</td>\n",
       "      <td>False</td>\n",
       "      <td>False</td>\n",
       "      <td>False</td>\n",
       "      <td>False</td>\n",
       "      <td>False</td>\n",
       "      <td>True</td>\n",
       "      <td>True</td>\n",
       "      <td>True</td>\n",
       "      <td>False</td>\n",
       "      <td>False</td>\n",
       "      <td>False</td>\n",
       "    </tr>\n",
       "    <tr>\n",
       "      <th>12</th>\n",
       "      <td>anika</td>\n",
       "      <td>5000</td>\n",
       "      <td>False</td>\n",
       "      <td>False</td>\n",
       "      <td>True</td>\n",
       "      <td>False</td>\n",
       "      <td>False</td>\n",
       "      <td>False</td>\n",
       "      <td>False</td>\n",
       "      <td>False</td>\n",
       "      <td>False</td>\n",
       "      <td>True</td>\n",
       "      <td>True</td>\n",
       "      <td>True</td>\n",
       "      <td>False</td>\n",
       "      <td>False</td>\n",
       "      <td>False</td>\n",
       "    </tr>\n",
       "    <tr>\n",
       "      <th>13</th>\n",
       "      <td>masud</td>\n",
       "      <td>3000</td>\n",
       "      <td>True</td>\n",
       "      <td>True</td>\n",
       "      <td>True</td>\n",
       "      <td>True</td>\n",
       "      <td>True</td>\n",
       "      <td>False</td>\n",
       "      <td>False</td>\n",
       "      <td>False</td>\n",
       "      <td>False</td>\n",
       "      <td>True</td>\n",
       "      <td>True</td>\n",
       "      <td>True</td>\n",
       "      <td>True</td>\n",
       "      <td>False</td>\n",
       "      <td>False</td>\n",
       "    </tr>\n",
       "    <tr>\n",
       "      <th>14</th>\n",
       "      <td>rayhan</td>\n",
       "      <td>30000</td>\n",
       "      <td>True</td>\n",
       "      <td>True</td>\n",
       "      <td>True</td>\n",
       "      <td>True</td>\n",
       "      <td>True</td>\n",
       "      <td>True</td>\n",
       "      <td>True</td>\n",
       "      <td>True</td>\n",
       "      <td>True</td>\n",
       "      <td>True</td>\n",
       "      <td>True</td>\n",
       "      <td>True</td>\n",
       "      <td>True</td>\n",
       "      <td>True</td>\n",
       "      <td>True</td>\n",
       "    </tr>\n",
       "  </tbody>\n",
       "</table>\n",
       "</div>"
      ],
      "text/plain": [
       "    who_paid amount    ali  anika rayhan  sezan    mim  tamim  rafa2 shakhwat  \\\n",
       "0        ali   3000   True  False   True   True  False  False  False    False   \n",
       "1     rayhan  10000  False   True   True   True  False  False  False    False   \n",
       "2      tamim   2000   True   True  False   True   True   True   True     True   \n",
       "3      rafa2   2008   True   True   True   True   True   True   True     True   \n",
       "4      sezan    200   True   True   True   True   True   True  False    False   \n",
       "5   shakhwat   6000   True   True   True   True   True   True  False    False   \n",
       "6      tanwi    500  False  False   True  False   True   True  False    False   \n",
       "7      tanoy   3000  False  False   True  False   True   True   True     True   \n",
       "8        ali   3000  False   True   True  False   True   True   True     True   \n",
       "9   mohammad   3006  False   True   True  False   True   True   True     True   \n",
       "10     tanoy   2996   True   True   True  False   True   True   True     True   \n",
       "11      rafa   5000  False  False   True  False  False  False  False    False   \n",
       "12     anika   5000  False  False   True  False  False  False  False    False   \n",
       "13     masud   3000   True   True   True   True   True  False  False    False   \n",
       "14    rayhan  30000   True   True   True   True   True   True   True     True   \n",
       "\n",
       "     rafa  masud ananya  tanoy  tanwi mohammad shovon  \n",
       "0   False  False  False  False  False     True   True  \n",
       "1   False  False   True  False  False    False  False  \n",
       "2    True  False  False  False  False    False  False  \n",
       "3    True   True   True   True   True    False  False  \n",
       "4   False  False  False  False  False    False  False  \n",
       "5   False   True   True   True   True    False  False  \n",
       "6   False  False  False  False   True    False  False  \n",
       "7    True  False  False  False   True    False  False  \n",
       "8    True  False  False   True  False    False  False  \n",
       "9    True  False  False   True  False     True   True  \n",
       "10   True  False   True   True  False     True   True  \n",
       "11  False   True   True   True  False    False  False  \n",
       "12  False   True   True   True  False    False  False  \n",
       "13  False   True   True   True   True    False  False  \n",
       "14   True   True   True   True   True     True   True  "
      ]
     },
     "execution_count": 57,
     "metadata": {},
     "output_type": "execute_result"
    }
   ],
   "source": [
    "df"
   ]
  },
  {
   "cell_type": "code",
   "execution_count": 26,
   "id": "393e96e8",
   "metadata": {
    "ExecuteTime": {
     "end_time": "2022-10-07T09:25:44.340868Z",
     "start_time": "2022-10-07T09:25:44.336491Z"
    }
   },
   "outputs": [
    {
     "data": {
      "text/plain": [
       "'ali 3000 day2_ramen #####>\\n'"
      ]
     },
     "execution_count": 26,
     "metadata": {},
     "output_type": "execute_result"
    }
   ],
   "source": [
    "d = data[0]\n",
    "d"
   ]
  },
  {
   "cell_type": "code",
   "execution_count": 27,
   "id": "da79fe16",
   "metadata": {
    "ExecuteTime": {
     "end_time": "2022-10-07T09:25:51.943222Z",
     "start_time": "2022-10-07T09:25:51.939016Z"
    }
   },
   "outputs": [
    {
     "data": {
      "text/plain": [
       "['ali', '3000', 'day2_ramen', '#####>']"
      ]
     },
     "execution_count": 27,
     "metadata": {},
     "output_type": "execute_result"
    }
   ],
   "source": [
    "d.split()"
   ]
  },
  {
   "cell_type": "code",
   "execution_count": 28,
   "id": "66f1da46",
   "metadata": {
    "ExecuteTime": {
     "end_time": "2022-10-07T09:25:54.025252Z",
     "start_time": "2022-10-07T09:25:54.022581Z"
    }
   },
   "outputs": [],
   "source": [
    "frm = d.split()[0]\n",
    "amnt = int(d.split()[1])"
   ]
  },
  {
   "cell_type": "code",
   "execution_count": 29,
   "id": "c25e17e7",
   "metadata": {
    "ExecuteTime": {
     "end_time": "2022-10-07T09:25:54.946896Z",
     "start_time": "2022-10-07T09:25:54.944459Z"
    }
   },
   "outputs": [],
   "source": [
    "t1 = d.split()[2]"
   ]
  },
  {
   "cell_type": "code",
   "execution_count": 30,
   "id": "bd5fc83a",
   "metadata": {
    "ExecuteTime": {
     "end_time": "2022-10-07T09:25:55.760310Z",
     "start_time": "2022-10-07T09:25:55.756589Z"
    }
   },
   "outputs": [
    {
     "data": {
      "text/plain": [
       "'day2_ramen'"
      ]
     },
     "execution_count": 30,
     "metadata": {},
     "output_type": "execute_result"
    }
   ],
   "source": [
    "t1"
   ]
  },
  {
   "cell_type": "code",
   "execution_count": 31,
   "id": "0b76cc38",
   "metadata": {
    "ExecuteTime": {
     "end_time": "2022-10-07T09:25:57.365527Z",
     "start_time": "2022-10-07T09:25:57.361847Z"
    }
   },
   "outputs": [
    {
     "data": {
      "text/plain": [
       "['day2_ramen']"
      ]
     },
     "execution_count": 31,
     "metadata": {},
     "output_type": "execute_result"
    }
   ],
   "source": [
    "t1.split(',')"
   ]
  },
  {
   "cell_type": "code",
   "execution_count": 32,
   "id": "cb816ab9",
   "metadata": {
    "ExecuteTime": {
     "end_time": "2022-10-07T09:26:00.213996Z",
     "start_time": "2022-10-07T09:26:00.209077Z"
    }
   },
   "outputs": [
    {
     "data": {
      "text/plain": [
       "{'ali', 'mohammad', 'rayhan', 'sezan', 'shovon'}"
      ]
     },
     "execution_count": 32,
     "metadata": {},
     "output_type": "execute_result"
    }
   ],
   "source": [
    "t2 = []\n",
    "for i in t1.split(','):\n",
    "    if i in list(groups.keys()):\n",
    "        t2.extend(groups[i])\n",
    "    else:\n",
    "        t2.append(i)\n",
    "t2 = set(t2)\n",
    "t2"
   ]
  },
  {
   "cell_type": "code",
   "execution_count": 33,
   "id": "f3319e2d",
   "metadata": {
    "ExecuteTime": {
     "end_time": "2022-10-07T09:26:01.696815Z",
     "start_time": "2022-10-07T09:26:01.692970Z"
    }
   },
   "outputs": [
    {
     "data": {
      "text/plain": [
       "{'ali', 'mohammad', 'rayhan', 'sezan', 'shovon'}"
      ]
     },
     "execution_count": 33,
     "metadata": {},
     "output_type": "execute_result"
    }
   ],
   "source": [
    "t2"
   ]
  },
  {
   "cell_type": "code",
   "execution_count": 34,
   "id": "b0dc0a0d",
   "metadata": {
    "ExecuteTime": {
     "end_time": "2022-10-07T09:36:31.471919Z",
     "start_time": "2022-10-07T09:36:31.466895Z"
    }
   },
   "outputs": [],
   "source": [
    "def single_line_handle(d):\n",
    "    frm = d.split()[0]\n",
    "    amnt = int(d.split()[1])\n",
    "    t1 = d.split()[2]\n",
    "    t2 = []\n",
    "    for i in t1.split(','):\n",
    "        if i in list(groups.keys()):\n",
    "            t2.extend(groups[i])\n",
    "        else:\n",
    "            t2.append(i)\n",
    "    t2 = set(t2)\n",
    "    return frm,amnt,list(t2)"
   ]
  },
  {
   "cell_type": "code",
   "execution_count": 35,
   "id": "cf1d5e7b",
   "metadata": {
    "ExecuteTime": {
     "end_time": "2022-10-07T09:36:39.138851Z",
     "start_time": "2022-10-07T09:36:39.135467Z"
    }
   },
   "outputs": [
    {
     "data": {
      "text/plain": [
       "('shakhwat',\n",
       " 6000,\n",
       " ['mim',\n",
       "  'tamim',\n",
       "  'ali',\n",
       "  'masud',\n",
       "  'anika',\n",
       "  'sezan',\n",
       "  'tanwi',\n",
       "  'ananya',\n",
       "  'rayhan',\n",
       "  'tanoy'])"
      ]
     },
     "execution_count": 35,
     "metadata": {},
     "output_type": "execute_result"
    }
   ],
   "source": [
    "single_line_handle(data[5])"
   ]
  },
  {
   "cell_type": "code",
   "execution_count": 48,
   "id": "a6da766b",
   "metadata": {
    "ExecuteTime": {
     "end_time": "2022-10-07T09:45:25.780052Z",
     "start_time": "2022-10-07T09:45:25.775392Z"
    }
   },
   "outputs": [],
   "source": [
    "df.loc[0,'who_paid'] = single_line_handle(data[5])[0]\n",
    "df.loc[0,'amount'] = single_line_handle(data[5])[1]\n",
    "df.loc[0,members] = payee_handler(single_line_handle(data[5])[2],members)"
   ]
  },
  {
   "cell_type": "code",
   "execution_count": 49,
   "id": "4e2c7e7c",
   "metadata": {
    "ExecuteTime": {
     "end_time": "2022-10-07T09:45:26.891472Z",
     "start_time": "2022-10-07T09:45:26.878366Z"
    }
   },
   "outputs": [
    {
     "data": {
      "text/html": [
       "<div>\n",
       "<style scoped>\n",
       "    .dataframe tbody tr th:only-of-type {\n",
       "        vertical-align: middle;\n",
       "    }\n",
       "\n",
       "    .dataframe tbody tr th {\n",
       "        vertical-align: top;\n",
       "    }\n",
       "\n",
       "    .dataframe thead th {\n",
       "        text-align: right;\n",
       "    }\n",
       "</style>\n",
       "<table border=\"1\" class=\"dataframe\">\n",
       "  <thead>\n",
       "    <tr style=\"text-align: right;\">\n",
       "      <th></th>\n",
       "      <th>who_paid</th>\n",
       "      <th>amount</th>\n",
       "      <th>ali</th>\n",
       "      <th>anika</th>\n",
       "      <th>rayhan</th>\n",
       "      <th>sezan</th>\n",
       "      <th>mim</th>\n",
       "      <th>tamim</th>\n",
       "      <th>rafa2</th>\n",
       "      <th>shakhwat</th>\n",
       "      <th>rafa</th>\n",
       "      <th>masud</th>\n",
       "      <th>ananya</th>\n",
       "      <th>tanoy</th>\n",
       "      <th>tanwi</th>\n",
       "      <th>mohammad</th>\n",
       "      <th>shovon</th>\n",
       "    </tr>\n",
       "  </thead>\n",
       "  <tbody>\n",
       "    <tr>\n",
       "      <th>0</th>\n",
       "      <td>shakhwat</td>\n",
       "      <td>6000</td>\n",
       "      <td>True</td>\n",
       "      <td>True</td>\n",
       "      <td>True</td>\n",
       "      <td>True</td>\n",
       "      <td>True</td>\n",
       "      <td>True</td>\n",
       "      <td>False</td>\n",
       "      <td>False</td>\n",
       "      <td>False</td>\n",
       "      <td>True</td>\n",
       "      <td>True</td>\n",
       "      <td>True</td>\n",
       "      <td>True</td>\n",
       "      <td>False</td>\n",
       "      <td>False</td>\n",
       "    </tr>\n",
       "  </tbody>\n",
       "</table>\n",
       "</div>"
      ],
      "text/plain": [
       "   who_paid amount   ali anika rayhan sezan   mim tamim  rafa2 shakhwat  \\\n",
       "0  shakhwat   6000  True  True   True  True  True  True  False    False   \n",
       "\n",
       "    rafa masud ananya tanoy tanwi mohammad shovon  \n",
       "0  False  True   True  True  True    False  False  "
      ]
     },
     "execution_count": 49,
     "metadata": {},
     "output_type": "execute_result"
    }
   ],
   "source": [
    "df"
   ]
  },
  {
   "cell_type": "code",
   "execution_count": null,
   "id": "8e254971",
   "metadata": {
    "ExecuteTime": {
     "end_time": "2022-10-07T09:40:50.181361Z",
     "start_time": "2022-10-07T09:40:50.178099Z"
    }
   },
   "outputs": [],
   "source": []
  },
  {
   "cell_type": "code",
   "execution_count": 42,
   "id": "b28e6b68",
   "metadata": {
    "ExecuteTime": {
     "end_time": "2022-10-07T09:41:14.533089Z",
     "start_time": "2022-10-07T09:41:14.530129Z"
    }
   },
   "outputs": [],
   "source": [
    "t2 = single_line_handle(data[5])[2]"
   ]
  },
  {
   "cell_type": "code",
   "execution_count": 44,
   "id": "5bb9bffe",
   "metadata": {
    "ExecuteTime": {
     "end_time": "2022-10-07T09:41:52.543801Z",
     "start_time": "2022-10-07T09:41:52.534883Z"
    }
   },
   "outputs": [
    {
     "ename": "ValueError",
     "evalue": "shape mismatch: objects cannot be broadcast to a single shape",
     "output_type": "error",
     "traceback": [
      "\u001b[0;31m---------------------------------------------------------------------------\u001b[0m",
      "\u001b[0;31mValueError\u001b[0m                                Traceback (most recent call last)",
      "\u001b[0;32m/tmp/ipykernel_37389/1677153813.py\u001b[0m in \u001b[0;36m<module>\u001b[0;34m\u001b[0m\n\u001b[0;32m----> 1\u001b[0;31m \u001b[0mnp\u001b[0m\u001b[0;34m.\u001b[0m\u001b[0mwhere\u001b[0m\u001b[0;34m(\u001b[0m\u001b[0mnp\u001b[0m\u001b[0;34m.\u001b[0m\u001b[0marray\u001b[0m\u001b[0;34m(\u001b[0m\u001b[0mmembers\u001b[0m\u001b[0;34m)\u001b[0m \u001b[0;34m==\u001b[0m \u001b[0mnp\u001b[0m\u001b[0;34m.\u001b[0m\u001b[0marray\u001b[0m\u001b[0;34m(\u001b[0m\u001b[0mt2\u001b[0m\u001b[0;34m)\u001b[0m\u001b[0;34m)\u001b[0m\u001b[0;34m\u001b[0m\u001b[0;34m\u001b[0m\u001b[0m\n\u001b[0m",
      "\u001b[0;31mValueError\u001b[0m: shape mismatch: objects cannot be broadcast to a single shape"
     ]
    }
   ],
   "source": [
    "np.where(np.array(members) == np.array(t2))"
   ]
  },
  {
   "cell_type": "code",
   "execution_count": 45,
   "id": "5ce230ba",
   "metadata": {
    "ExecuteTime": {
     "end_time": "2022-10-07T09:43:21.834456Z",
     "start_time": "2022-10-07T09:43:21.831390Z"
    }
   },
   "outputs": [],
   "source": [
    "TFs = []\n",
    "for i in members:\n",
    "    if i in t2:\n",
    "        TFs.append(True)\n",
    "    else:\n",
    "        TFs.append(False)"
   ]
  },
  {
   "cell_type": "code",
   "execution_count": 46,
   "id": "6923bc5a",
   "metadata": {
    "ExecuteTime": {
     "end_time": "2022-10-07T09:43:24.394842Z",
     "start_time": "2022-10-07T09:43:24.386779Z"
    }
   },
   "outputs": [
    {
     "data": {
      "text/plain": [
       "[True,\n",
       " True,\n",
       " True,\n",
       " True,\n",
       " True,\n",
       " True,\n",
       " False,\n",
       " False,\n",
       " False,\n",
       " True,\n",
       " True,\n",
       " True,\n",
       " True,\n",
       " False,\n",
       " False]"
      ]
     },
     "execution_count": 46,
     "metadata": {},
     "output_type": "execute_result"
    }
   ],
   "source": [
    "TFs"
   ]
  },
  {
   "cell_type": "code",
   "execution_count": 47,
   "id": "859efb0d",
   "metadata": {
    "ExecuteTime": {
     "end_time": "2022-10-07T09:44:25.017104Z",
     "start_time": "2022-10-07T09:44:25.013154Z"
    }
   },
   "outputs": [],
   "source": [
    "def payee_handler(payee,members):\n",
    "    TFs = []\n",
    "    for i in members:\n",
    "        if i in payee:\n",
    "            TFs.append(True)\n",
    "        else:\n",
    "            TFs.append(False)\n",
    "    return TFs"
   ]
  },
  {
   "cell_type": "code",
   "execution_count": null,
   "id": "00ff085f",
   "metadata": {},
   "outputs": [],
   "source": []
  }
 ],
 "metadata": {
  "kernelspec": {
   "display_name": "Python 3 (ipykernel)",
   "language": "python",
   "name": "python3"
  },
  "language_info": {
   "codemirror_mode": {
    "name": "ipython",
    "version": 3
   },
   "file_extension": ".py",
   "mimetype": "text/x-python",
   "name": "python",
   "nbconvert_exporter": "python",
   "pygments_lexer": "ipython3",
   "version": "3.9.7"
  }
 },
 "nbformat": 4,
 "nbformat_minor": 5
}
